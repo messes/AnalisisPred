{
 "cells": [
  {
   "cell_type": "code",
   "execution_count": 4,
   "metadata": {
    "id": "Te3O3Ijul8PZ"
   },
   "outputs": [],
   "source": [
    "import pandas as pd\n",
    "import numpy as np\n",
    "import matplotlib.pyplot as plt\n",
    "import seaborn as sns\n",
    "from sklearn.ensemble import RandomForestRegressor, ExtraTreesRegressor"
   ]
  },
  {
   "cell_type": "code",
   "execution_count": 5,
   "metadata": {
    "colab": {
     "base_uri": "https://localhost:8080/"
    },
    "id": "I3ptXMETmNSX",
    "outputId": "62244067-3140-480b-ba93-716a0c91b897"
   },
   "outputs": [
    {
     "name": "stderr",
     "output_type": "stream",
     "text": [
      "/Users/mateoesses/opt/anaconda3/lib/python3.8/site-packages/IPython/core/interactiveshell.py:3165: DtypeWarning: Columns (4) have mixed types.Specify dtype option on import or set low_memory=False.\n",
      "  has_raised = await self.run_ast_nodes(code_ast.body, cell_name,\n"
     ]
    }
   ],
   "source": [
    "df_train=pd.read_csv(\"datos.csv\", sep=\",\")\n",
    "df_test=pd.read_csv(\"resultados.csv\", sep=\",\")"
   ]
  },
  {
   "cell_type": "code",
   "execution_count": 6,
   "metadata": {
    "colab": {
     "base_uri": "https://localhost:8080/"
    },
    "id": "d2INFOE3mtOz",
    "outputId": "888096ad-eb43-40e6-f51c-51245e79e840"
   },
   "outputs": [
    {
     "data": {
      "text/plain": [
       "Index(['averageRating', 'numVotes', 'titleType', 'isAdult', 'startYear',\n",
       "       'endYear', 'runtimeMinutes', 'genres_x', 'directors', 'writers',\n",
       "       'seasonNumber', 'episodeNumber', 'ordering', 'language', 'types',\n",
       "       'attributes', 'isOriginalTitle', 'adult', 'budget', 'genres_y',\n",
       "       'original_language', 'overview', 'popularity', 'production_companies',\n",
       "       'production_countries', 'release_date', 'revenue', 'runtime', 'status',\n",
       "       'tagline', 'video', 'id'],\n",
       "      dtype='object')"
      ]
     },
     "execution_count": 6,
     "metadata": {},
     "output_type": "execute_result"
    }
   ],
   "source": [
    "df_train.columns"
   ]
  },
  {
   "cell_type": "code",
   "execution_count": 7,
   "metadata": {
    "colab": {
     "base_uri": "https://localhost:8080/"
    },
    "id": "YWrGTGNxgxig",
    "outputId": "d85927b5-3f6c-463e-f187-80645466b05a"
   },
   "outputs": [
    {
     "data": {
      "text/plain": [
       "(900000, 32)"
      ]
     },
     "execution_count": 7,
     "metadata": {},
     "output_type": "execute_result"
    }
   ],
   "source": [
    "df_train.shape"
   ]
  },
  {
   "cell_type": "code",
   "execution_count": 8,
   "metadata": {},
   "outputs": [
    {
     "data": {
      "text/plain": [
       "averageRating           float64\n",
       "numVotes                  int64\n",
       "titleType                object\n",
       "isAdult                 float64\n",
       "startYear                object\n",
       "endYear                  object\n",
       "runtimeMinutes           object\n",
       "genres_x                 object\n",
       "directors                object\n",
       "writers                  object\n",
       "seasonNumber             object\n",
       "episodeNumber            object\n",
       "ordering                float64\n",
       "language                 object\n",
       "types                    object\n",
       "attributes               object\n",
       "isOriginalTitle         float64\n",
       "adult                    object\n",
       "budget                  float64\n",
       "genres_y                 object\n",
       "original_language        object\n",
       "overview                 object\n",
       "popularity              float64\n",
       "production_companies     object\n",
       "production_countries     object\n",
       "release_date             object\n",
       "revenue                 float64\n",
       "runtime                 float64\n",
       "status                   object\n",
       "tagline                  object\n",
       "video                    object\n",
       "id                        int64\n",
       "dtype: object"
      ]
     },
     "execution_count": 8,
     "metadata": {},
     "output_type": "execute_result"
    }
   ],
   "source": [
    "df_train.dtypes"
   ]
  },
  {
   "cell_type": "code",
   "execution_count": 9,
   "metadata": {
    "colab": {
     "base_uri": "https://localhost:8080/"
    },
    "id": "VF-bwcVSCpC4",
    "outputId": "881cc852-7415-45a5-a467-8773091108ef"
   },
   "outputs": [
    {
     "name": "stdout",
     "output_type": "stream",
     "text": [
      "<class 'pandas.core.frame.DataFrame'>\n",
      "RangeIndex: 900000 entries, 0 to 899999\n",
      "Data columns (total 32 columns):\n",
      " #   Column                Non-Null Count   Dtype  \n",
      "---  ------                --------------   -----  \n",
      " 0   averageRating         900000 non-null  float64\n",
      " 1   numVotes              900000 non-null  int64  \n",
      " 2   titleType             899998 non-null  object \n",
      " 3   isAdult               899998 non-null  float64\n",
      " 4   startYear             899998 non-null  object \n",
      " 5   endYear               899998 non-null  object \n",
      " 6   runtimeMinutes        899998 non-null  object \n",
      " 7   genres_x              899997 non-null  object \n",
      " 8   directors             899998 non-null  object \n",
      " 9   writers               899998 non-null  object \n",
      " 10  seasonNumber          403675 non-null  object \n",
      " 11  episodeNumber         403675 non-null  object \n",
      " 12  ordering              341292 non-null  float64\n",
      " 13  language              341292 non-null  object \n",
      " 14  types                 341292 non-null  object \n",
      " 15  attributes            341292 non-null  object \n",
      " 16  isOriginalTitle       341292 non-null  float64\n",
      " 17  adult                 43668 non-null   object \n",
      " 18  budget                43668 non-null   float64\n",
      " 19  genres_y              43668 non-null   object \n",
      " 20  original_language     43655 non-null   object \n",
      " 21  overview              42941 non-null   object \n",
      " 22  popularity            43665 non-null   float64\n",
      " 23  production_companies  43665 non-null   object \n",
      " 24  production_countries  43665 non-null   object \n",
      " 25  release_date          43601 non-null   object \n",
      " 26  revenue               43665 non-null   float64\n",
      " 27  runtime               43478 non-null   float64\n",
      " 28  status                43589 non-null   object \n",
      " 29  tagline               22126 non-null   object \n",
      " 30  video                 43665 non-null   object \n",
      " 31  id                    900000 non-null  int64  \n",
      "dtypes: float64(8), int64(2), object(22)\n",
      "memory usage: 219.7+ MB\n"
     ]
    }
   ],
   "source": [
    "df_train.info()"
   ]
  },
  {
   "cell_type": "code",
   "execution_count": 10,
   "metadata": {},
   "outputs": [
    {
     "data": {
      "text/plain": [
       "<AxesSubplot:xlabel='ordering'>"
      ]
     },
     "execution_count": 10,
     "metadata": {},
     "output_type": "execute_result"
    },
    {
     "data": {
      "image/png": "[encoded data removed]",
      "text/plain": [
       "<Figure size 432x288 with 1 Axes>"
      ]
     },
     "metadata": {
      "needs_background": "light"
     },
     "output_type": "display_data"
    }
   ],
   "source": [
    "sns.boxplot(x=df_test[\"ordering\"])"
   ]
  },
  {
   "cell_type": "code",
   "execution_count": 11,
   "metadata": {},
   "outputs": [],
   "source": [
    "df_test = df_test.drop(df_test[df_test['ordering']>=100].index)"
   ]
  },
  {
   "cell_type": "code",
   "execution_count": 12,
   "metadata": {},
   "outputs": [
    {
     "data": {
      "text/plain": [
       "<AxesSubplot:xlabel='runtime'>"
      ]
     },
     "execution_count": 12,
     "metadata": {},
     "output_type": "execute_result"
    },
    {
     "data": {
      "image/png": "[encoded data removed]",
      "text/plain": [
       "<Figure size 432x288 with 1 Axes>"
      ]
     },
     "metadata": {
      "needs_background": "light"
     },
     "output_type": "display_data"
    }
   ],
   "source": [
    "sns.boxplot(x=df_test[\"runtime\"])"
   ]
  },
  {
   "cell_type": "code",
   "execution_count": 57,
   "metadata": {},
   "outputs": [],
   "source": [
    "df_test = df_test.drop(df_test[df_test['runtime']>=800].index)"
   ]
  },
  {
   "cell_type": "code",
   "execution_count": 54,
   "metadata": {},
   "outputs": [
    {
     "data": {
      "text/plain": [
       "<AxesSubplot:xlabel='budget'>"
      ]
     },
     "execution_count": 54,
     "metadata": {},
     "output_type": "execute_result"
    },
    {
     "data": {
      "image/png": "[encoded data removed]",
      "text/plain": [
       "<Figure size 432x288 with 1 Axes>"
      ]
     },
     "metadata": {
      "needs_background": "light"
     },
     "output_type": "display_data"
    }
   ],
   "source": [
    "sns.boxplot(x=df_test[\"budget\"])"
   ]
  },
  {
   "cell_type": "code",
   "execution_count": 55,
   "metadata": {},
   "outputs": [
    {
     "data": {
      "text/plain": [
       "<AxesSubplot:xlabel='revenue'>"
      ]
     },
     "execution_count": 55,
     "metadata": {},
     "output_type": "execute_result"
    },
    {
     "data": {
      "image/png": "[encoded data removed]",
      "text/plain": [
       "<Figure size 432x288 with 1 Axes>"
      ]
     },
     "metadata": {
      "needs_background": "light"
     },
     "output_type": "display_data"
    }
   ],
   "source": [
    "sns.boxplot(x=df_test[\"revenue\"])"
   ]
  },
  {
   "cell_type": "code",
   "execution_count": 58,
   "metadata": {},
   "outputs": [
    {
     "data": {
      "text/plain": [
       "<AxesSubplot:xlabel='startYear'>"
      ]
     },
     "execution_count": 58,
     "metadata": {},
     "output_type": "execute_result"
    },
    {
     "data": {
      "image/png": "[encoded data removed]",
      "text/plain": [
       "<Figure size 432x288 with 1 Axes>"
      ]
     },
     "metadata": {
      "needs_background": "light"
     },
     "output_type": "display_data"
    }
   ],
   "source": [
    "sns.boxplot(x=df_test[\"startYear\"])"
   ]
  },
  {
   "cell_type": "code",
   "execution_count": 19,
   "metadata": {},
   "outputs": [],
   "source": [
    "df_test = df_test.drop(df_test[df_test['startYear']>=1960].index)"
   ]
  },
  {
   "cell_type": "code",
   "execution_count": 60,
   "metadata": {},
   "outputs": [
    {
     "data": {
      "text/plain": [
       "<AxesSubplot:xlabel='endYear'>"
      ]
     },
     "execution_count": 60,
     "metadata": {},
     "output_type": "execute_result"
    },
    {
     "data": {
      "image/png": "[encoded data removed]",
      "text/plain": [
       "<Figure size 432x288 with 1 Axes>"
      ]
     },
     "metadata": {
      "needs_background": "light"
     },
     "output_type": "display_data"
    }
   ],
   "source": [
    "sns.boxplot(x=df_test[\"endYear\"])"
   ]
  },
  {
   "cell_type": "code",
   "execution_count": 61,
   "metadata": {},
   "outputs": [],
   "source": [
    "df_test = df_test.drop(df_test[df_test['endYear']>=1960].index)"
   ]
  },
  {
   "cell_type": "code",
   "execution_count": null,
   "metadata": {},
   "outputs": [],
   "source": []
  },
  {
   "cell_type": "code",
   "execution_count": 22,
   "metadata": {
    "id": "ibjz7Czzr6LO"
   },
   "outputs": [],
   "source": [
    "#Elimino los NA de las variables continuas\n",
    "contin_vars = ['numVotes', 'runtimeMinutes', 'budget', 'revenue', 'startYear','endYear','popularity','runtime','ordering']\n",
    "for v in contin_vars: df_train.loc[df_train[v].isnull(), v] = 0\n",
    "for v in contin_vars: df_train.loc[(df_train[v].isna()), v] = 0"
   ]
  },
  {
   "cell_type": "code",
   "execution_count": 23,
   "metadata": {
    "id": "piI6BaciWbb9"
   },
   "outputs": [],
   "source": [
    "#reemplazamos los vacios por 0\n",
    "df_train=df_train.replace('\\\\N',0)\n",
    "#cambiamos los type\n",
    "df_train['endYear']=df_train['endYear'].astype('int16')\n",
    "df_train['startYear']=df_train['startYear'].astype('int16')\n",
    "df_train['prod']=df_train['endYear']-df_train['startYear']"
   ]
  },
  {
   "cell_type": "code",
   "execution_count": 24,
   "metadata": {
    "id": "yuusAgBFhjCN"
   },
   "outputs": [],
   "source": [
    "df_train['runtimeMinutes']=df_train['runtimeMinutes'].replace('Game-Show',0)\n",
    "df_train['runtimeMinutes']=df_train['runtimeMinutes'].astype('int16')"
   ]
  },
  {
   "cell_type": "code",
   "execution_count": 25,
   "metadata": {
    "id": "Ckz4-hdxXBP8"
   },
   "outputs": [],
   "source": [
    " def label_race (row, col):\n",
    "    lab = {\n",
    "        f[0]: 100,\n",
    "        f[1]: 80,\n",
    "        f[2]: 60,\n",
    "        f[3]: 40,\n",
    "        f[4]: 20,\n",
    "    }\n",
    "    return lab.get(row[col], 0)"
   ]
  },
  {
   "cell_type": "code",
   "execution_count": 26,
   "metadata": {
    "id": "JwOE4ep2h3Bo"
   },
   "outputs": [],
   "source": [
    "f=df_train['directors'].value_counts()[1:6].index.tolist()\n",
    "df_train['director_f'] = df_train.apply (lambda row: label_race(row,'directors'), axis=1)"
   ]
  },
  {
   "cell_type": "code",
   "execution_count": 27,
   "metadata": {
    "id": "fY_DwsZiyXAy"
   },
   "outputs": [],
   "source": [
    "f=df_train['writers'].value_counts()[1:6].index.tolist()\n",
    "df_train['writers_f'] = df_train.apply (lambda row: label_race(row,'writers'), axis=1)"
   ]
  },
  {
   "cell_type": "code",
   "execution_count": 28,
   "metadata": {
    "id": "h9NTXMIG12AV"
   },
   "outputs": [],
   "source": [
    "f=df_train['production_companies'].value_counts()[1:6].index.tolist()\n",
    "df_train['production_companies_f'] = df_train.apply (lambda row: label_race(row,'production_companies'), axis=1)"
   ]
  },
  {
   "cell_type": "code",
   "execution_count": 29,
   "metadata": {
    "id": "M3VTDAJT218u"
   },
   "outputs": [],
   "source": [
    "f=df_train['production_countries'].value_counts()[1:6].index.tolist()\n",
    "df_train['production_countries_f'] = df_train.apply (lambda row: label_race(row,'production_countries'), axis=1)"
   ]
  },
  {
   "cell_type": "code",
   "execution_count": 30,
   "metadata": {
    "id": "dLFRUasNaF7N"
   },
   "outputs": [],
   "source": [
    "f=df_train['status'].value_counts()[0:5].index.tolist()\n",
    "df_train['status_f'] = df_train.apply (lambda row: label_race(row,'status'), axis=1)"
   ]
  },
  {
   "cell_type": "code",
   "execution_count": 31,
   "metadata": {
    "id": "zIP_lGOIofX2"
   },
   "outputs": [],
   "source": [
    "#Clasifico en categóricas y continuas\n",
    "cat_vars = ['language'] \n",
    "contin_vars = ['startYear','endYear','prod', 'numVotes', 'runtimeMinutes', 'director_f', 'production_companies_f', 'production_countries_f','status_f','popularity','runtime']"
   ]
  },
  {
   "cell_type": "code",
   "execution_count": 32,
   "metadata": {
    "id": "Z9LnAsTCgxih"
   },
   "outputs": [],
   "source": [
    "# Genero variables dummys con las categóricas\n",
    "for v in cat_vars: df_train=df_train.join(pd.get_dummies(df_train[v], drop_first=True), lsuffix = '_left', rsuffix = '_right')"
   ]
  },
  {
   "cell_type": "code",
   "execution_count": 33,
   "metadata": {
    "id": "I-vBUVn0OGmk"
   },
   "outputs": [],
   "source": [
    "#Selección de variables para el modelo\n",
    "algunas=contin_vars+['en', 'es']"
   ]
  },
  {
   "cell_type": "code",
   "execution_count": 34,
   "metadata": {},
   "outputs": [
    {
     "data": {
      "text/html": [
       "<div>\n",
       "<style scoped>\n",
       "    .dataframe tbody tr th:only-of-type {\n",
       "        vertical-align: middle;\n",
       "    }\n",
       "\n",
       "    .dataframe tbody tr th {\n",
       "        vertical-align: top;\n",
       "    }\n",
       "\n",
       "    .dataframe thead th {\n",
       "        text-align: right;\n",
       "    }\n",
       "</style>\n",
       "<table border=\"1\" class=\"dataframe\">\n",
       "  <thead>\n",
       "    <tr style=\"text-align: right;\">\n",
       "      <th></th>\n",
       "      <th>averageRating</th>\n",
       "      <th>numVotes</th>\n",
       "      <th>titleType</th>\n",
       "      <th>isAdult</th>\n",
       "      <th>startYear</th>\n",
       "      <th>endYear</th>\n",
       "      <th>runtimeMinutes</th>\n",
       "      <th>genres_x</th>\n",
       "      <th>directors</th>\n",
       "      <th>writers</th>\n",
       "      <th>...</th>\n",
       "      <th>writers_f</th>\n",
       "      <th>production_companies_f</th>\n",
       "      <th>production_countries_f</th>\n",
       "      <th>status_f</th>\n",
       "      <th>en</th>\n",
       "      <th>es</th>\n",
       "      <th>fr</th>\n",
       "      <th>haw</th>\n",
       "      <th>myv</th>\n",
       "      <th>yi</th>\n",
       "    </tr>\n",
       "  </thead>\n",
       "  <tbody>\n",
       "    <tr>\n",
       "      <th>0</th>\n",
       "      <td>1.8</td>\n",
       "      <td>12</td>\n",
       "      <td>tvEpisode</td>\n",
       "      <td>0.0</td>\n",
       "      <td>2014</td>\n",
       "      <td>0</td>\n",
       "      <td>21</td>\n",
       "      <td>Reality-TV</td>\n",
       "      <td>0</td>\n",
       "      <td>0</td>\n",
       "      <td>...</td>\n",
       "      <td>0</td>\n",
       "      <td>0</td>\n",
       "      <td>0</td>\n",
       "      <td>0</td>\n",
       "      <td>0</td>\n",
       "      <td>0</td>\n",
       "      <td>0</td>\n",
       "      <td>0</td>\n",
       "      <td>0</td>\n",
       "      <td>0</td>\n",
       "    </tr>\n",
       "    <tr>\n",
       "      <th>1</th>\n",
       "      <td>8.8</td>\n",
       "      <td>5</td>\n",
       "      <td>tvEpisode</td>\n",
       "      <td>0.0</td>\n",
       "      <td>2020</td>\n",
       "      <td>0</td>\n",
       "      <td>0</td>\n",
       "      <td>Reality-TV</td>\n",
       "      <td>0</td>\n",
       "      <td>0</td>\n",
       "      <td>...</td>\n",
       "      <td>0</td>\n",
       "      <td>0</td>\n",
       "      <td>0</td>\n",
       "      <td>0</td>\n",
       "      <td>0</td>\n",
       "      <td>0</td>\n",
       "      <td>0</td>\n",
       "      <td>0</td>\n",
       "      <td>0</td>\n",
       "      <td>0</td>\n",
       "    </tr>\n",
       "    <tr>\n",
       "      <th>2</th>\n",
       "      <td>8.5</td>\n",
       "      <td>35</td>\n",
       "      <td>video</td>\n",
       "      <td>0.0</td>\n",
       "      <td>2006</td>\n",
       "      <td>0</td>\n",
       "      <td>7</td>\n",
       "      <td>Comedy,Short</td>\n",
       "      <td>nm2040572</td>\n",
       "      <td>nm2040572</td>\n",
       "      <td>...</td>\n",
       "      <td>0</td>\n",
       "      <td>0</td>\n",
       "      <td>0</td>\n",
       "      <td>0</td>\n",
       "      <td>0</td>\n",
       "      <td>0</td>\n",
       "      <td>0</td>\n",
       "      <td>0</td>\n",
       "      <td>0</td>\n",
       "      <td>0</td>\n",
       "    </tr>\n",
       "    <tr>\n",
       "      <th>3</th>\n",
       "      <td>4.3</td>\n",
       "      <td>11</td>\n",
       "      <td>short</td>\n",
       "      <td>0.0</td>\n",
       "      <td>2016</td>\n",
       "      <td>0</td>\n",
       "      <td>0</td>\n",
       "      <td>Comedy,Short</td>\n",
       "      <td>nm3579598</td>\n",
       "      <td>nm2765889</td>\n",
       "      <td>...</td>\n",
       "      <td>0</td>\n",
       "      <td>0</td>\n",
       "      <td>0</td>\n",
       "      <td>0</td>\n",
       "      <td>0</td>\n",
       "      <td>0</td>\n",
       "      <td>0</td>\n",
       "      <td>0</td>\n",
       "      <td>0</td>\n",
       "      <td>0</td>\n",
       "    </tr>\n",
       "    <tr>\n",
       "      <th>4</th>\n",
       "      <td>7.4</td>\n",
       "      <td>10</td>\n",
       "      <td>tvEpisode</td>\n",
       "      <td>0.0</td>\n",
       "      <td>2014</td>\n",
       "      <td>0</td>\n",
       "      <td>22</td>\n",
       "      <td>Adventure,Animation,Fantasy</td>\n",
       "      <td>0</td>\n",
       "      <td>nm1444457</td>\n",
       "      <td>...</td>\n",
       "      <td>60</td>\n",
       "      <td>0</td>\n",
       "      <td>0</td>\n",
       "      <td>0</td>\n",
       "      <td>0</td>\n",
       "      <td>0</td>\n",
       "      <td>0</td>\n",
       "      <td>0</td>\n",
       "      <td>0</td>\n",
       "      <td>0</td>\n",
       "    </tr>\n",
       "  </tbody>\n",
       "</table>\n",
       "<p>5 rows × 44 columns</p>\n",
       "</div>"
      ],
      "text/plain": [
       "   averageRating  numVotes  titleType  isAdult  startYear  endYear  \\\n",
       "0            1.8        12  tvEpisode      0.0       2014        0   \n",
       "1            8.8         5  tvEpisode      0.0       2020        0   \n",
       "2            8.5        35      video      0.0       2006        0   \n",
       "3            4.3        11      short      0.0       2016        0   \n",
       "4            7.4        10  tvEpisode      0.0       2014        0   \n",
       "\n",
       "   runtimeMinutes                     genres_x  directors    writers  ...  \\\n",
       "0              21                   Reality-TV          0          0  ...   \n",
       "1               0                   Reality-TV          0          0  ...   \n",
       "2               7                 Comedy,Short  nm2040572  nm2040572  ...   \n",
       "3               0                 Comedy,Short  nm3579598  nm2765889  ...   \n",
       "4              22  Adventure,Animation,Fantasy          0  nm1444457  ...   \n",
       "\n",
       "  writers_f production_companies_f  production_countries_f status_f en es  fr  \\\n",
       "0         0                      0                       0        0  0  0   0   \n",
       "1         0                      0                       0        0  0  0   0   \n",
       "2         0                      0                       0        0  0  0   0   \n",
       "3         0                      0                       0        0  0  0   0   \n",
       "4        60                      0                       0        0  0  0   0   \n",
       "\n",
       "  haw  myv yi  \n",
       "0   0    0  0  \n",
       "1   0    0  0  \n",
       "2   0    0  0  \n",
       "3   0    0  0  \n",
       "4   0    0  0  \n",
       "\n",
       "[5 rows x 44 columns]"
      ]
     },
     "execution_count": 34,
     "metadata": {},
     "output_type": "execute_result"
    }
   ],
   "source": [
    "df_train.head()"
   ]
  },
  {
   "cell_type": "code",
   "execution_count": 35,
   "metadata": {
    "id": "7rVp9CCum-M5"
   },
   "outputs": [],
   "source": [
    "# Elegir un modelo y correrlo\n",
    "reg=ExtraTreesRegressor(max_depth=25)\n",
    "\n",
    "X=np.array(df_train[algunas])\n",
    "y=df_train['averageRating']\n",
    "\n",
    "res=reg.fit(X, y)"
   ]
  },
  {
   "cell_type": "code",
   "execution_count": 36,
   "metadata": {
    "colab": {
     "base_uri": "https://localhost:8080/"
    },
    "id": "mrb26ucOtFEh",
    "outputId": "d879cfba-8f97-48be-85b0-41ab291bffb0"
   },
   "outputs": [
    {
     "data": {
      "text/plain": [
       "0.33875260836458665"
      ]
     },
     "execution_count": 36,
     "metadata": {},
     "output_type": "execute_result"
    }
   ],
   "source": [
    "res.score(X,y)"
   ]
  },
  {
   "cell_type": "code",
   "execution_count": 37,
   "metadata": {},
   "outputs": [],
   "source": [
    "#------"
   ]
  },
  {
   "cell_type": "code",
   "execution_count": 38,
   "metadata": {},
   "outputs": [
    {
     "data": {
      "text/html": [
       "<div>\n",
       "<style scoped>\n",
       "    .dataframe tbody tr th:only-of-type {\n",
       "        vertical-align: middle;\n",
       "    }\n",
       "\n",
       "    .dataframe tbody tr th {\n",
       "        vertical-align: top;\n",
       "    }\n",
       "\n",
       "    .dataframe thead th {\n",
       "        text-align: right;\n",
       "    }\n",
       "</style>\n",
       "<table border=\"1\" class=\"dataframe\">\n",
       "  <thead>\n",
       "    <tr style=\"text-align: right;\">\n",
       "      <th></th>\n",
       "      <th>numVotes</th>\n",
       "      <th>titleType</th>\n",
       "      <th>isAdult</th>\n",
       "      <th>startYear</th>\n",
       "      <th>endYear</th>\n",
       "      <th>runtimeMinutes</th>\n",
       "      <th>genres_x</th>\n",
       "      <th>directors</th>\n",
       "      <th>writers</th>\n",
       "      <th>seasonNumber</th>\n",
       "      <th>...</th>\n",
       "      <th>popularity</th>\n",
       "      <th>production_companies</th>\n",
       "      <th>production_countries</th>\n",
       "      <th>release_date</th>\n",
       "      <th>revenue</th>\n",
       "      <th>runtime</th>\n",
       "      <th>status</th>\n",
       "      <th>tagline</th>\n",
       "      <th>video</th>\n",
       "      <th>id</th>\n",
       "    </tr>\n",
       "  </thead>\n",
       "  <tbody>\n",
       "    <tr>\n",
       "      <th>0</th>\n",
       "      <td>15</td>\n",
       "      <td>video</td>\n",
       "      <td>0.0</td>\n",
       "      <td>1999</td>\n",
       "      <td>\\N</td>\n",
       "      <td>3</td>\n",
       "      <td>Music,Short</td>\n",
       "      <td>nm2897815</td>\n",
       "      <td>\\N</td>\n",
       "      <td>NaN</td>\n",
       "      <td>...</td>\n",
       "      <td>NaN</td>\n",
       "      <td>NaN</td>\n",
       "      <td>NaN</td>\n",
       "      <td>NaN</td>\n",
       "      <td>NaN</td>\n",
       "      <td>NaN</td>\n",
       "      <td>NaN</td>\n",
       "      <td>NaN</td>\n",
       "      <td>NaN</td>\n",
       "      <td>900001</td>\n",
       "    </tr>\n",
       "    <tr>\n",
       "      <th>1</th>\n",
       "      <td>226</td>\n",
       "      <td>tvEpisode</td>\n",
       "      <td>0.0</td>\n",
       "      <td>2007</td>\n",
       "      <td>\\N</td>\n",
       "      <td>13</td>\n",
       "      <td>Comedy,Fantasy,Sci-Fi</td>\n",
       "      <td>nm3005544</td>\n",
       "      <td>nm3005544</td>\n",
       "      <td>2</td>\n",
       "      <td>...</td>\n",
       "      <td>NaN</td>\n",
       "      <td>NaN</td>\n",
       "      <td>NaN</td>\n",
       "      <td>NaN</td>\n",
       "      <td>NaN</td>\n",
       "      <td>NaN</td>\n",
       "      <td>NaN</td>\n",
       "      <td>NaN</td>\n",
       "      <td>NaN</td>\n",
       "      <td>900002</td>\n",
       "    </tr>\n",
       "    <tr>\n",
       "      <th>2</th>\n",
       "      <td>98</td>\n",
       "      <td>tvEpisode</td>\n",
       "      <td>0.0</td>\n",
       "      <td>1971</td>\n",
       "      <td>\\N</td>\n",
       "      <td>60</td>\n",
       "      <td>Western</td>\n",
       "      <td>nm0568535</td>\n",
       "      <td>nm0588513,nm0531990,nm0582307,nm0912766</td>\n",
       "      <td>16</td>\n",
       "      <td>...</td>\n",
       "      <td>NaN</td>\n",
       "      <td>NaN</td>\n",
       "      <td>NaN</td>\n",
       "      <td>NaN</td>\n",
       "      <td>NaN</td>\n",
       "      <td>NaN</td>\n",
       "      <td>NaN</td>\n",
       "      <td>NaN</td>\n",
       "      <td>NaN</td>\n",
       "      <td>900003</td>\n",
       "    </tr>\n",
       "    <tr>\n",
       "      <th>3</th>\n",
       "      <td>22</td>\n",
       "      <td>tvSeries</td>\n",
       "      <td>0.0</td>\n",
       "      <td>2001</td>\n",
       "      <td>\\N</td>\n",
       "      <td>\\N</td>\n",
       "      <td>Documentary</td>\n",
       "      <td>nm1234625,nm0823288</td>\n",
       "      <td>nm0823288,nm1234625</td>\n",
       "      <td>NaN</td>\n",
       "      <td>...</td>\n",
       "      <td>NaN</td>\n",
       "      <td>NaN</td>\n",
       "      <td>NaN</td>\n",
       "      <td>NaN</td>\n",
       "      <td>NaN</td>\n",
       "      <td>NaN</td>\n",
       "      <td>NaN</td>\n",
       "      <td>NaN</td>\n",
       "      <td>NaN</td>\n",
       "      <td>900004</td>\n",
       "    </tr>\n",
       "    <tr>\n",
       "      <th>4</th>\n",
       "      <td>48</td>\n",
       "      <td>tvEpisode</td>\n",
       "      <td>0.0</td>\n",
       "      <td>2014</td>\n",
       "      <td>\\N</td>\n",
       "      <td>47</td>\n",
       "      <td>Crime,Drama,Mystery</td>\n",
       "      <td>nm1788073</td>\n",
       "      <td>nm0937725,nm0382985,nm0049569</td>\n",
       "      <td>8</td>\n",
       "      <td>...</td>\n",
       "      <td>NaN</td>\n",
       "      <td>NaN</td>\n",
       "      <td>NaN</td>\n",
       "      <td>NaN</td>\n",
       "      <td>NaN</td>\n",
       "      <td>NaN</td>\n",
       "      <td>NaN</td>\n",
       "      <td>NaN</td>\n",
       "      <td>NaN</td>\n",
       "      <td>900005</td>\n",
       "    </tr>\n",
       "  </tbody>\n",
       "</table>\n",
       "<p>5 rows × 31 columns</p>\n",
       "</div>"
      ],
      "text/plain": [
       "   numVotes  titleType  isAdult startYear endYear runtimeMinutes  \\\n",
       "0        15      video      0.0      1999      \\N              3   \n",
       "1       226  tvEpisode      0.0      2007      \\N             13   \n",
       "2        98  tvEpisode      0.0      1971      \\N             60   \n",
       "3        22   tvSeries      0.0      2001      \\N             \\N   \n",
       "4        48  tvEpisode      0.0      2014      \\N             47   \n",
       "\n",
       "                genres_x            directors  \\\n",
       "0            Music,Short            nm2897815   \n",
       "1  Comedy,Fantasy,Sci-Fi            nm3005544   \n",
       "2                Western            nm0568535   \n",
       "3            Documentary  nm1234625,nm0823288   \n",
       "4    Crime,Drama,Mystery            nm1788073   \n",
       "\n",
       "                                   writers seasonNumber  ... popularity  \\\n",
       "0                                       \\N          NaN  ...        NaN   \n",
       "1                                nm3005544            2  ...        NaN   \n",
       "2  nm0588513,nm0531990,nm0582307,nm0912766           16  ...        NaN   \n",
       "3                      nm0823288,nm1234625          NaN  ...        NaN   \n",
       "4            nm0937725,nm0382985,nm0049569            8  ...        NaN   \n",
       "\n",
       "   production_companies production_countries release_date revenue  runtime  \\\n",
       "0                   NaN                  NaN          NaN     NaN      NaN   \n",
       "1                   NaN                  NaN          NaN     NaN      NaN   \n",
       "2                   NaN                  NaN          NaN     NaN      NaN   \n",
       "3                   NaN                  NaN          NaN     NaN      NaN   \n",
       "4                   NaN                  NaN          NaN     NaN      NaN   \n",
       "\n",
       "  status  tagline video      id  \n",
       "0    NaN      NaN   NaN  900001  \n",
       "1    NaN      NaN   NaN  900002  \n",
       "2    NaN      NaN   NaN  900003  \n",
       "3    NaN      NaN   NaN  900004  \n",
       "4    NaN      NaN   NaN  900005  \n",
       "\n",
       "[5 rows x 31 columns]"
      ]
     },
     "execution_count": 38,
     "metadata": {},
     "output_type": "execute_result"
    }
   ],
   "source": [
    "df_test.head()"
   ]
  },
  {
   "cell_type": "code",
   "execution_count": 39,
   "metadata": {},
   "outputs": [
    {
     "data": {
      "text/plain": [
       "Index(['numVotes', 'titleType', 'isAdult', 'startYear', 'endYear',\n",
       "       'runtimeMinutes', 'genres_x', 'directors', 'writers', 'seasonNumber',\n",
       "       'episodeNumber', 'ordering', 'language', 'types', 'attributes',\n",
       "       'isOriginalTitle', 'adult', 'budget', 'genres_y', 'original_language',\n",
       "       'overview', 'popularity', 'production_companies',\n",
       "       'production_countries', 'release_date', 'revenue', 'runtime', 'status',\n",
       "       'tagline', 'video', 'id'],\n",
       "      dtype='object')"
      ]
     },
     "execution_count": 39,
     "metadata": {},
     "output_type": "execute_result"
    }
   ],
   "source": [
    "df_test.columns"
   ]
  },
  {
   "cell_type": "code",
   "execution_count": 40,
   "metadata": {},
   "outputs": [],
   "source": [
    "#Elimino los NA de las variables continuas\n",
    "contin_vars = ['numVotes', 'runtimeMinutes', 'budget', 'revenue', 'startYear','endYear','popularity','runtime']\n",
    "for v in contin_vars: df_test.loc[df_test[v].isnull(), v] = 0\n",
    "for v in contin_vars: df_test.loc[(df_test[v].isna()), v] = 0"
   ]
  },
  {
   "cell_type": "code",
   "execution_count": 41,
   "metadata": {},
   "outputs": [],
   "source": [
    "#reemplazamos los vacios por 0\n",
    "df_test=df_test.replace('\\\\N',0)\n",
    "#cambiamos los type\n",
    "df_test['endYear']=df_test['endYear'].astype('int16')\n",
    "df_test['startYear']=df_test['startYear'].astype('int16')\n",
    "df_test['prod']=df_test['endYear']-df_test['startYear']"
   ]
  },
  {
   "cell_type": "code",
   "execution_count": 42,
   "metadata": {},
   "outputs": [],
   "source": [
    "df_test['runtimeMinutes']=df_test['runtimeMinutes'].replace('Reality-TV',0)\n",
    "df_test['runtimeMinutes']=df_test['runtimeMinutes'].astype('int16')"
   ]
  },
  {
   "cell_type": "code",
   "execution_count": 43,
   "metadata": {},
   "outputs": [],
   "source": [
    "f=df_test['directors'].value_counts()[1:6].index.tolist()\n",
    "df_test['director_f'] = df_test.apply (lambda row: label_race(row,'directors'), axis=1)\n"
   ]
  },
  {
   "cell_type": "code",
   "execution_count": 44,
   "metadata": {},
   "outputs": [],
   "source": [
    "f=df_test['writers'].value_counts()[1:6].index.tolist()\n",
    "df_test['writers_f'] = df_test.apply (lambda row: label_race(row,'writers'), axis=1)\n"
   ]
  },
  {
   "cell_type": "code",
   "execution_count": 45,
   "metadata": {},
   "outputs": [],
   "source": [
    "f=df_test['production_companies'].value_counts()[1:6].index.tolist()\n",
    "df_test['production_companies_f'] = df_test.apply (lambda row: label_race(row,'production_companies'), axis=1)\n"
   ]
  },
  {
   "cell_type": "code",
   "execution_count": 46,
   "metadata": {},
   "outputs": [],
   "source": [
    "f=df_test['production_countries'].value_counts()[1:6].index.tolist()\n",
    "df_test['production_countries_f'] = df_test.apply (lambda row: label_race(row,'production_countries'), axis=1)\n"
   ]
  },
  {
   "cell_type": "code",
   "execution_count": 47,
   "metadata": {},
   "outputs": [],
   "source": [
    "f=df_test['status'].value_counts()[0:5].index.tolist()\n",
    "df_test['status_f'] = df_test.apply (lambda row: label_race(row,'status'), axis=1)\n"
   ]
  },
  {
   "cell_type": "code",
   "execution_count": 48,
   "metadata": {},
   "outputs": [],
   "source": [
    "cat_vars = ['language'] \n",
    "contin_vars = ['startYear','endYear','prod', 'numVotes', 'runtimeMinutes', 'director_f', 'production_companies_f', 'production_countries_f','status_f','popularity','runtime']"
   ]
  },
  {
   "cell_type": "code",
   "execution_count": 49,
   "metadata": {},
   "outputs": [],
   "source": [
    "# Genero variables dummys con las categóricas\n",
    "for v in cat_vars: df_test=df_test.join(pd.get_dummies(df_test[v], drop_first=True), lsuffix = '_left', rsuffix = '_right')"
   ]
  },
  {
   "cell_type": "code",
   "execution_count": 50,
   "metadata": {},
   "outputs": [],
   "source": [
    "algunas=contin_vars+['en', 'es']"
   ]
  },
  {
   "cell_type": "code",
   "execution_count": 51,
   "metadata": {},
   "outputs": [
    {
     "data": {
      "text/html": [
       "<div>\n",
       "<style scoped>\n",
       "    .dataframe tbody tr th:only-of-type {\n",
       "        vertical-align: middle;\n",
       "    }\n",
       "\n",
       "    .dataframe tbody tr th {\n",
       "        vertical-align: top;\n",
       "    }\n",
       "\n",
       "    .dataframe thead th {\n",
       "        text-align: right;\n",
       "    }\n",
       "</style>\n",
       "<table border=\"1\" class=\"dataframe\">\n",
       "  <thead>\n",
       "    <tr style=\"text-align: right;\">\n",
       "      <th></th>\n",
       "      <th>numVotes</th>\n",
       "      <th>titleType</th>\n",
       "      <th>isAdult</th>\n",
       "      <th>startYear</th>\n",
       "      <th>endYear</th>\n",
       "      <th>runtimeMinutes</th>\n",
       "      <th>genres_x</th>\n",
       "      <th>directors</th>\n",
       "      <th>writers</th>\n",
       "      <th>seasonNumber</th>\n",
       "      <th>...</th>\n",
       "      <th>prod</th>\n",
       "      <th>director_f</th>\n",
       "      <th>writers_f</th>\n",
       "      <th>production_companies_f</th>\n",
       "      <th>production_countries_f</th>\n",
       "      <th>status_f</th>\n",
       "      <th>en</th>\n",
       "      <th>es</th>\n",
       "      <th>hi</th>\n",
       "      <th>yi</th>\n",
       "    </tr>\n",
       "  </thead>\n",
       "  <tbody>\n",
       "    <tr>\n",
       "      <th>0</th>\n",
       "      <td>15</td>\n",
       "      <td>video</td>\n",
       "      <td>0.0</td>\n",
       "      <td>1999</td>\n",
       "      <td>0</td>\n",
       "      <td>3</td>\n",
       "      <td>Music,Short</td>\n",
       "      <td>nm2897815</td>\n",
       "      <td>0</td>\n",
       "      <td>NaN</td>\n",
       "      <td>...</td>\n",
       "      <td>-1999</td>\n",
       "      <td>0</td>\n",
       "      <td>0</td>\n",
       "      <td>0</td>\n",
       "      <td>0</td>\n",
       "      <td>0</td>\n",
       "      <td>0</td>\n",
       "      <td>0</td>\n",
       "      <td>0</td>\n",
       "      <td>0</td>\n",
       "    </tr>\n",
       "    <tr>\n",
       "      <th>1</th>\n",
       "      <td>226</td>\n",
       "      <td>tvEpisode</td>\n",
       "      <td>0.0</td>\n",
       "      <td>2007</td>\n",
       "      <td>0</td>\n",
       "      <td>13</td>\n",
       "      <td>Comedy,Fantasy,Sci-Fi</td>\n",
       "      <td>nm3005544</td>\n",
       "      <td>nm3005544</td>\n",
       "      <td>2</td>\n",
       "      <td>...</td>\n",
       "      <td>-2007</td>\n",
       "      <td>20</td>\n",
       "      <td>100</td>\n",
       "      <td>0</td>\n",
       "      <td>0</td>\n",
       "      <td>0</td>\n",
       "      <td>0</td>\n",
       "      <td>0</td>\n",
       "      <td>0</td>\n",
       "      <td>0</td>\n",
       "    </tr>\n",
       "    <tr>\n",
       "      <th>2</th>\n",
       "      <td>98</td>\n",
       "      <td>tvEpisode</td>\n",
       "      <td>0.0</td>\n",
       "      <td>1971</td>\n",
       "      <td>0</td>\n",
       "      <td>60</td>\n",
       "      <td>Western</td>\n",
       "      <td>nm0568535</td>\n",
       "      <td>nm0588513,nm0531990,nm0582307,nm0912766</td>\n",
       "      <td>16</td>\n",
       "      <td>...</td>\n",
       "      <td>-1971</td>\n",
       "      <td>0</td>\n",
       "      <td>0</td>\n",
       "      <td>0</td>\n",
       "      <td>0</td>\n",
       "      <td>0</td>\n",
       "      <td>0</td>\n",
       "      <td>0</td>\n",
       "      <td>0</td>\n",
       "      <td>0</td>\n",
       "    </tr>\n",
       "    <tr>\n",
       "      <th>3</th>\n",
       "      <td>22</td>\n",
       "      <td>tvSeries</td>\n",
       "      <td>0.0</td>\n",
       "      <td>2001</td>\n",
       "      <td>0</td>\n",
       "      <td>0</td>\n",
       "      <td>Documentary</td>\n",
       "      <td>nm1234625,nm0823288</td>\n",
       "      <td>nm0823288,nm1234625</td>\n",
       "      <td>NaN</td>\n",
       "      <td>...</td>\n",
       "      <td>-2001</td>\n",
       "      <td>0</td>\n",
       "      <td>0</td>\n",
       "      <td>0</td>\n",
       "      <td>0</td>\n",
       "      <td>0</td>\n",
       "      <td>0</td>\n",
       "      <td>0</td>\n",
       "      <td>0</td>\n",
       "      <td>0</td>\n",
       "    </tr>\n",
       "    <tr>\n",
       "      <th>4</th>\n",
       "      <td>48</td>\n",
       "      <td>tvEpisode</td>\n",
       "      <td>0.0</td>\n",
       "      <td>2014</td>\n",
       "      <td>0</td>\n",
       "      <td>47</td>\n",
       "      <td>Crime,Drama,Mystery</td>\n",
       "      <td>nm1788073</td>\n",
       "      <td>nm0937725,nm0382985,nm0049569</td>\n",
       "      <td>8</td>\n",
       "      <td>...</td>\n",
       "      <td>-2014</td>\n",
       "      <td>0</td>\n",
       "      <td>0</td>\n",
       "      <td>0</td>\n",
       "      <td>0</td>\n",
       "      <td>0</td>\n",
       "      <td>0</td>\n",
       "      <td>0</td>\n",
       "      <td>0</td>\n",
       "      <td>0</td>\n",
       "    </tr>\n",
       "  </tbody>\n",
       "</table>\n",
       "<p>5 rows × 41 columns</p>\n",
       "</div>"
      ],
      "text/plain": [
       "   numVotes  titleType  isAdult  startYear  endYear  runtimeMinutes  \\\n",
       "0        15      video      0.0       1999        0               3   \n",
       "1       226  tvEpisode      0.0       2007        0              13   \n",
       "2        98  tvEpisode      0.0       1971        0              60   \n",
       "3        22   tvSeries      0.0       2001        0               0   \n",
       "4        48  tvEpisode      0.0       2014        0              47   \n",
       "\n",
       "                genres_x            directors  \\\n",
       "0            Music,Short            nm2897815   \n",
       "1  Comedy,Fantasy,Sci-Fi            nm3005544   \n",
       "2                Western            nm0568535   \n",
       "3            Documentary  nm1234625,nm0823288   \n",
       "4    Crime,Drama,Mystery            nm1788073   \n",
       "\n",
       "                                   writers seasonNumber  ...  prod  \\\n",
       "0                                        0          NaN  ... -1999   \n",
       "1                                nm3005544            2  ... -2007   \n",
       "2  nm0588513,nm0531990,nm0582307,nm0912766           16  ... -1971   \n",
       "3                      nm0823288,nm1234625          NaN  ... -2001   \n",
       "4            nm0937725,nm0382985,nm0049569            8  ... -2014   \n",
       "\n",
       "   director_f writers_f production_companies_f production_countries_f  \\\n",
       "0           0         0                      0                      0   \n",
       "1          20       100                      0                      0   \n",
       "2           0         0                      0                      0   \n",
       "3           0         0                      0                      0   \n",
       "4           0         0                      0                      0   \n",
       "\n",
       "   status_f en  es hi yi  \n",
       "0         0  0   0  0  0  \n",
       "1         0  0   0  0  0  \n",
       "2         0  0   0  0  0  \n",
       "3         0  0   0  0  0  \n",
       "4         0  0   0  0  0  \n",
       "\n",
       "[5 rows x 41 columns]"
      ]
     },
     "execution_count": 51,
     "metadata": {},
     "output_type": "execute_result"
    }
   ],
   "source": [
    "df_test.head()"
   ]
  },
  {
   "cell_type": "code",
   "execution_count": 62,
   "metadata": {},
   "outputs": [
    {
     "ename": "ValueError",
     "evalue": "X has 13 features, but ExtraTreeRegressor is expecting 14 features as input.",
     "output_type": "error",
     "traceback": [
      "\u001b[0;31m---------------------------------------------------------------------------\u001b[0m",
      "\u001b[0;31mValueError\u001b[0m                                Traceback (most recent call last)",
      "\u001b[0;32m<ipython-input-62-eaf4ed58867b>\u001b[0m in \u001b[0;36m<module>\u001b[0;34m\u001b[0m\n\u001b[1;32m      1\u001b[0m \u001b[0;31m# Y hago una predicción con las variables de testeo\u001b[0m\u001b[0;34m\u001b[0m\u001b[0;34m\u001b[0m\u001b[0;34m\u001b[0m\u001b[0m\n\u001b[1;32m      2\u001b[0m \u001b[0mX\u001b[0m\u001b[0;34m=\u001b[0m\u001b[0mnp\u001b[0m\u001b[0;34m.\u001b[0m\u001b[0marray\u001b[0m\u001b[0;34m(\u001b[0m\u001b[0mdf_test\u001b[0m\u001b[0;34m[\u001b[0m\u001b[0malgunas\u001b[0m\u001b[0;34m]\u001b[0m\u001b[0;34m)\u001b[0m\u001b[0;34m\u001b[0m\u001b[0;34m\u001b[0m\u001b[0m\n\u001b[0;32m----> 3\u001b[0;31m \u001b[0mresultado\u001b[0m\u001b[0;34m=\u001b[0m\u001b[0mreg\u001b[0m\u001b[0;34m.\u001b[0m\u001b[0mpredict\u001b[0m\u001b[0;34m(\u001b[0m\u001b[0mX\u001b[0m\u001b[0;34m)\u001b[0m\u001b[0;34m\u001b[0m\u001b[0;34m\u001b[0m\u001b[0m\n\u001b[0m",
      "\u001b[0;32m~/opt/anaconda3/lib/python3.8/site-packages/sklearn/ensemble/_forest.py\u001b[0m in \u001b[0;36mpredict\u001b[0;34m(self, X)\u001b[0m\n\u001b[1;32m    782\u001b[0m         \u001b[0mcheck_is_fitted\u001b[0m\u001b[0;34m(\u001b[0m\u001b[0mself\u001b[0m\u001b[0;34m)\u001b[0m\u001b[0;34m\u001b[0m\u001b[0;34m\u001b[0m\u001b[0m\n\u001b[1;32m    783\u001b[0m         \u001b[0;31m# Check data\u001b[0m\u001b[0;34m\u001b[0m\u001b[0;34m\u001b[0m\u001b[0;34m\u001b[0m\u001b[0m\n\u001b[0;32m--> 784\u001b[0;31m         \u001b[0mX\u001b[0m \u001b[0;34m=\u001b[0m \u001b[0mself\u001b[0m\u001b[0;34m.\u001b[0m\u001b[0m_validate_X_predict\u001b[0m\u001b[0;34m(\u001b[0m\u001b[0mX\u001b[0m\u001b[0;34m)\u001b[0m\u001b[0;34m\u001b[0m\u001b[0;34m\u001b[0m\u001b[0m\n\u001b[0m\u001b[1;32m    785\u001b[0m \u001b[0;34m\u001b[0m\u001b[0m\n\u001b[1;32m    786\u001b[0m         \u001b[0;31m# Assign chunk of trees to jobs\u001b[0m\u001b[0;34m\u001b[0m\u001b[0;34m\u001b[0m\u001b[0;34m\u001b[0m\u001b[0m\n",
      "\u001b[0;32m~/opt/anaconda3/lib/python3.8/site-packages/sklearn/ensemble/_forest.py\u001b[0m in \u001b[0;36m_validate_X_predict\u001b[0;34m(self, X)\u001b[0m\n\u001b[1;32m    420\u001b[0m         \u001b[0mcheck_is_fitted\u001b[0m\u001b[0;34m(\u001b[0m\u001b[0mself\u001b[0m\u001b[0;34m)\u001b[0m\u001b[0;34m\u001b[0m\u001b[0;34m\u001b[0m\u001b[0m\n\u001b[1;32m    421\u001b[0m \u001b[0;34m\u001b[0m\u001b[0m\n\u001b[0;32m--> 422\u001b[0;31m         \u001b[0;32mreturn\u001b[0m \u001b[0mself\u001b[0m\u001b[0;34m.\u001b[0m\u001b[0mestimators_\u001b[0m\u001b[0;34m[\u001b[0m\u001b[0;36m0\u001b[0m\u001b[0;34m]\u001b[0m\u001b[0;34m.\u001b[0m\u001b[0m_validate_X_predict\u001b[0m\u001b[0;34m(\u001b[0m\u001b[0mX\u001b[0m\u001b[0;34m,\u001b[0m \u001b[0mcheck_input\u001b[0m\u001b[0;34m=\u001b[0m\u001b[0;32mTrue\u001b[0m\u001b[0;34m)\u001b[0m\u001b[0;34m\u001b[0m\u001b[0;34m\u001b[0m\u001b[0m\n\u001b[0m\u001b[1;32m    423\u001b[0m \u001b[0;34m\u001b[0m\u001b[0m\n\u001b[1;32m    424\u001b[0m     \u001b[0;34m@\u001b[0m\u001b[0mproperty\u001b[0m\u001b[0;34m\u001b[0m\u001b[0;34m\u001b[0m\u001b[0m\n",
      "\u001b[0;32m~/opt/anaconda3/lib/python3.8/site-packages/sklearn/tree/_classes.py\u001b[0m in \u001b[0;36m_validate_X_predict\u001b[0;34m(self, X, check_input)\u001b[0m\n\u001b[1;32m    400\u001b[0m         \u001b[0;34m\"\"\"Validate the training data on predict (probabilities).\"\"\"\u001b[0m\u001b[0;34m\u001b[0m\u001b[0;34m\u001b[0m\u001b[0m\n\u001b[1;32m    401\u001b[0m         \u001b[0;32mif\u001b[0m \u001b[0mcheck_input\u001b[0m\u001b[0;34m:\u001b[0m\u001b[0;34m\u001b[0m\u001b[0;34m\u001b[0m\u001b[0m\n\u001b[0;32m--> 402\u001b[0;31m             X = self._validate_data(X, dtype=DTYPE, accept_sparse=\"csr\",\n\u001b[0m\u001b[1;32m    403\u001b[0m                                     reset=False)\n\u001b[1;32m    404\u001b[0m             if issparse(X) and (X.indices.dtype != np.intc or\n",
      "\u001b[0;32m~/opt/anaconda3/lib/python3.8/site-packages/sklearn/base.py\u001b[0m in \u001b[0;36m_validate_data\u001b[0;34m(self, X, y, reset, validate_separately, **check_params)\u001b[0m\n\u001b[1;32m    435\u001b[0m \u001b[0;34m\u001b[0m\u001b[0m\n\u001b[1;32m    436\u001b[0m         \u001b[0;32mif\u001b[0m \u001b[0mcheck_params\u001b[0m\u001b[0;34m.\u001b[0m\u001b[0mget\u001b[0m\u001b[0;34m(\u001b[0m\u001b[0;34m'ensure_2d'\u001b[0m\u001b[0;34m,\u001b[0m \u001b[0;32mTrue\u001b[0m\u001b[0;34m)\u001b[0m\u001b[0;34m:\u001b[0m\u001b[0;34m\u001b[0m\u001b[0;34m\u001b[0m\u001b[0m\n\u001b[0;32m--> 437\u001b[0;31m             \u001b[0mself\u001b[0m\u001b[0;34m.\u001b[0m\u001b[0m_check_n_features\u001b[0m\u001b[0;34m(\u001b[0m\u001b[0mX\u001b[0m\u001b[0;34m,\u001b[0m \u001b[0mreset\u001b[0m\u001b[0;34m=\u001b[0m\u001b[0mreset\u001b[0m\u001b[0;34m)\u001b[0m\u001b[0;34m\u001b[0m\u001b[0;34m\u001b[0m\u001b[0m\n\u001b[0m\u001b[1;32m    438\u001b[0m \u001b[0;34m\u001b[0m\u001b[0m\n\u001b[1;32m    439\u001b[0m         \u001b[0;32mreturn\u001b[0m \u001b[0mout\u001b[0m\u001b[0;34m\u001b[0m\u001b[0;34m\u001b[0m\u001b[0m\n",
      "\u001b[0;32m~/opt/anaconda3/lib/python3.8/site-packages/sklearn/base.py\u001b[0m in \u001b[0;36m_check_n_features\u001b[0;34m(self, X, reset)\u001b[0m\n\u001b[1;32m    363\u001b[0m \u001b[0;34m\u001b[0m\u001b[0m\n\u001b[1;32m    364\u001b[0m         \u001b[0;32mif\u001b[0m \u001b[0mn_features\u001b[0m \u001b[0;34m!=\u001b[0m \u001b[0mself\u001b[0m\u001b[0;34m.\u001b[0m\u001b[0mn_features_in_\u001b[0m\u001b[0;34m:\u001b[0m\u001b[0;34m\u001b[0m\u001b[0;34m\u001b[0m\u001b[0m\n\u001b[0;32m--> 365\u001b[0;31m             raise ValueError(\n\u001b[0m\u001b[1;32m    366\u001b[0m                 \u001b[0;34mf\"X has {n_features} features, but {self.__class__.__name__} \"\u001b[0m\u001b[0;34m\u001b[0m\u001b[0;34m\u001b[0m\u001b[0m\n\u001b[1;32m    367\u001b[0m                 f\"is expecting {self.n_features_in_} features as input.\")\n",
      "\u001b[0;31mValueError\u001b[0m: X has 13 features, but ExtraTreeRegressor is expecting 14 features as input."
     ]
    }
   ],
   "source": [
    "# Y hago una predicción con las variables de testeo\n",
    "X=np.array(df_test[algunas])\n",
    "resultado=reg.predict(X)"
   ]
  },
  {
   "cell_type": "code",
   "execution_count": null,
   "metadata": {},
   "outputs": [],
   "source": []
  },
  {
   "cell_type": "code",
   "execution_count": null,
   "metadata": {},
   "outputs": [],
   "source": [
    "# Finalmente generar un CSV con los resultados aplicados al CSV de resultados que no contiene la columna target\n",
    "\n",
    "salida = pd.DataFrame(data={\"averageRating\": resultado}).astype(str)\n",
    "salida.index = df_test.id\n",
    "salida.to_csv(\"Entrega.csv\", sep=',',index=True,  index_label='id')"
   ]
  },
  {
   "cell_type": "code",
   "execution_count": null,
   "metadata": {},
   "outputs": [],
   "source": [
    "resul=pd.read_csv(\"Entrega.csv\", sep=\",\")"
   ]
  },
  {
   "cell_type": "code",
   "execution_count": null,
   "metadata": {},
   "outputs": [],
   "source": [
    "res.score(X,resul.averageRating)"
   ]
  }
 ],
 "metadata": {
  "colab": {
   "collapsed_sections": [],
   "name": "RF_Kaggle 2.ipynb",
   "provenance": []
  },
  "kernelspec": {
   "display_name": "Python 3",
   "language": "python",
   "name": "python3"
  },
  "language_info": {
   "codemirror_mode": {
    "name": "ipython",
    "version": 3
   },
   "file_extension": ".py",
   "mimetype": "text/x-python",
   "name": "python",
   "nbconvert_exporter": "python",
   "pygments_lexer": "ipython3",
   "version": "3.8.8"
  }
 },
 "nbformat": 4,
 "nbformat_minor": 4
}
