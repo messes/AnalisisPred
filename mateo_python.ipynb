{
 "cells": [
  {
   "cell_type": "code",
   "execution_count": 1,
   "metadata": {
    "id": "OoWEpylaSzzN"
   },
   "outputs": [],
   "source": [
    "import pandas as pd\n",
    "import numpy as np\n",
    "from sklearn.model_selection import train_test_split, RandomizedSearchCV, GridSearchCV\n",
    "from sklearn.ensemble import RandomForestRegressor, ExtraTreesRegressor\n",
    "from sklearn.metrics import accuracy_score, mean_absolute_error\n",
    "from sklearn import preprocessing\n",
    "from sklearn.metrics import r2_score\n",
    "from sklearn.preprocessing import scale"
   ]
  },
  {
   "cell_type": "code",
   "execution_count": 2,
   "metadata": {},
   "outputs": [],
   "source": [
    "df_test=pd.read_csv(\"resultados.csv\", sep=\",\")"
   ]
  },
  {
   "cell_type": "code",
   "execution_count": 9,
   "metadata": {},
   "outputs": [],
   "source": [
    "entreno = pd.read_csv(\"entrenar1.csv\",sep=\",\")\n",
    "y_train=entreno['averageRating']\n",
    "X_train=entreno[[ \"numVotes\",\"startYear\",\"runtimeMinutes\",\"seasonNumber\",\"episodeNumber\",\"Comedy\",\"Drama\",\"Documentary\",\"Crime\",\"Animation\",\"Adventure\",\"Reality\",\"Short\",\"Music\",\"titleType_movie\",\"titleType_short\",\"titleType_tvEpisode\",\"titleType_tvMiniSeries\",\"titleType_tvMovie\",\"titleType_tvSeries\",\"titleType_tvShort\",\"titleType_tvSpecial\",\"titleType_video\",\"titleType_videoGame\"]]   "
   ]
  },
  {
   "cell_type": "code",
   "execution_count": 10,
   "metadata": {
    "id": "0AZhR5HtTKn_"
   },
   "outputs": [],
   "source": [
    "test = pd.read_csv(\"test1.csv\",sep=',')\n",
    "y_test=test['averageRating'] \n",
    "X_test=test[[\"numVotes\",\"startYear\",\"runtimeMinutes\",\"seasonNumber\",\"episodeNumber\",\"Comedy\",\"Drama\",\"Documentary\",\"Crime\",\"Animation\",\"Adventure\",\"Reality\",\"Short\",\"Music\",\"titleType_movie\",\"titleType_short\",\"titleType_tvEpisode\",\"titleType_tvMiniSeries\",\"titleType_tvMovie\",\"titleType_tvSeries\",\"titleType_tvShort\",\"titleType_tvSpecial\",\"titleType_video\",\"titleType_videoGame\"]]"
   ]
  },
  {
   "cell_type": "code",
   "execution_count": 13,
   "metadata": {},
   "outputs": [],
   "source": [
    "resultados = pd.read_csv(\"resultados1.csv\",sep=',')\n",
    "resu = resultados[[\"numVotes\",\"startYear\",\"runtimeMinutes\",\"seasonNumber\",\"episodeNumber\",\"Comedy\",\"Drama\",\"Documentary\",\"Crime\",\"Animation\",\"Adventure\",\"Reality\",\"Short\",\"Music\",\"titleType_movie\",\"titleType_short\",\"titleType_tvEpisode\",\"titleType_tvMiniSeries\",\"titleType_tvMovie\",\"titleType_tvSeries\",\"titleType_tvShort\",\"titleType_tvSpecial\",\"titleType_video\",\"titleType_videoGame\"]]"
   ]
  },
  {
   "cell_type": "code",
   "execution_count": null,
   "metadata": {},
   "outputs": [],
   "source": [
    "forest = RandomForestRegressor(n_estimators=200,max_depth=50,max_leaf_nodes=10000,oob_score=True,min_samples_split=12)\n",
    "forest.fit(X_train, y_train)"
   ]
  },
  {
   "cell_type": "code",
   "execution_count": null,
   "metadata": {},
   "outputs": [],
   "source": [
    "y_pred=forest.predict(X_test)\n",
    "pd.DataFrame(y_pred).to_csv('randomForest.csv')"
   ]
  },
  {
   "cell_type": "code",
   "execution_count": 11,
   "metadata": {
    "colab": {
     "base_uri": "https://localhost:8080/"
    },
    "id": "ZlO80DmRqxQz",
    "outputId": "a87166f2-3ee8-41db-e76b-ca3d99135c86"
   },
   "outputs": [
    {
     "data": {
      "text/plain": [
       "ExtraTreesRegressor(bootstrap=True, max_depth=100, max_leaf_nodes=10000,\n",
       "                    min_samples_split=12, oob_score=True)"
      ]
     },
     "execution_count": 11,
     "metadata": {},
     "output_type": "execute_result"
    }
   ],
   "source": [
    "extratree = ExtraTreesRegressor(max_depth=100,max_leaf_nodes=10000,bootstrap=True,oob_score=True, min_samples_split=12)\n",
    "extratree.fit(X_train,y_train)"
   ]
  },
  {
   "cell_type": "code",
   "execution_count": 12,
   "metadata": {
    "colab": {
     "base_uri": "https://localhost:8080/"
    },
    "id": "8-CUCvhl3k_f",
    "outputId": "6ce20c5c-9e23-425f-bbe5-3c8dd0451b64"
   },
   "outputs": [
    {
     "data": {
      "text/plain": [
       "0.3355975320893987"
      ]
     },
     "execution_count": 12,
     "metadata": {},
     "output_type": "execute_result"
    }
   ],
   "source": [
    "y_pred=extratree.predict(X_test)\n",
    "r2_score(y_test,y_pred_extra)"
   ]
  },
  {
   "cell_type": "code",
   "execution_count": null,
   "metadata": {},
   "outputs": [],
   "source": [
    "#np.any(np.isnan(resultados))"
   ]
  },
  {
   "cell_type": "code",
   "execution_count": null,
   "metadata": {},
   "outputs": [],
   "source": [
    "#resultados.info()"
   ]
  },
  {
   "cell_type": "code",
   "execution_count": 14,
   "metadata": {},
   "outputs": [],
   "source": [
    "predic = extratree.predict(resu)"
   ]
  },
  {
   "cell_type": "code",
   "execution_count": null,
   "metadata": {},
   "outputs": [],
   "source": [
    "len(y_pred)"
   ]
  },
  {
   "cell_type": "code",
   "execution_count": 16,
   "metadata": {},
   "outputs": [],
   "source": [
    "salida = pd.DataFrame(data={\"averageRating\": predic}).astype(str)\n",
    "salida.index = df_test.id\n",
    "salida.to_csv(\"Final.csv\", sep=',',index=True,  index_label='id')"
   ]
  },
  {
   "cell_type": "code",
   "execution_count": 17,
   "metadata": {},
   "outputs": [],
   "source": [
    "resul=pd.read_csv(\"Final.csv\", sep=\",\")"
   ]
  }
 ],
 "metadata": {
  "colab": {
   "name": "tp2final.ipynb",
   "provenance": []
  },
  "kernelspec": {
   "display_name": "Python 3",
   "language": "python",
   "name": "python3"
  },
  "language_info": {
   "codemirror_mode": {
    "name": "ipython",
    "version": 3
   },
   "file_extension": ".py",
   "mimetype": "text/x-python",
   "name": "python",
   "nbconvert_exporter": "python",
   "pygments_lexer": "ipython3",
   "version": "3.8.5"
  }
 },
 "nbformat": 4,
 "nbformat_minor": 4
}
